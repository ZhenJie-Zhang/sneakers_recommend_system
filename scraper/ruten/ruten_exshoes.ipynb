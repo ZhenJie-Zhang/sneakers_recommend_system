{
 "cells": [
  {
   "cell_type": "markdown",
   "metadata": {},
   "source": [
    "# 露天拍賣\n",
    "## 1. 找賣家確認圖片\n",
    "## 2. 到\"商品分類\"找\"超連結\" ，建立\"字典\"={\"商品分類\":\"超連結\"}\n",
    "## 3. 去除沒有關鍵字\"鞋\"的選項，或者 只找有關鍵字\"鞋\"的選項進入字典\n",
    "## 4. 依字典內的連結抓取所需的資料，並存成 .json檔\n",
    "## 5. 存到資料夾內 => \"賣家_ruten\" / \"商品分類\" -> \"商品名\".json"
   ]
  },
  {
   "cell_type": "code",
   "execution_count": 1,
   "metadata": {},
   "outputs": [],
   "source": [
    "from urllib.request import urlopen\n",
    "from bs4 import BeautifulSoup\n",
    "import os\n",
    "import json\n",
    "import requests\n",
    "import pandas as pd"
   ]
  },
  {
   "cell_type": "markdown",
   "metadata": {},
   "source": [
    "# 併入字典 and 建立資料夾(賣家)"
   ]
  },
  {
   "cell_type": "code",
   "execution_count": 2,
   "metadata": {
    "scrolled": true
   },
   "outputs": [
    {
     "name": "stdout",
     "output_type": "stream",
     "text": [
      "evenyiing\n",
      "evenyiing\n",
      "{'ADIDAS 女休閒鞋': 'https://class.ruten.com.tw/user/index00.php?s=evenyiing&d=2510363&o=0&m=1&p=1', 'ADIDAS 女慢跑鞋': 'https://class.ruten.com.tw/user/index00.php?s=evenyiing&d=2965650&o=0&m=1', 'ADIDAS 男休閒鞋': 'https://class.ruten.com.tw/user/index00.php?s=evenyiing&d=2489408&o=0&m=1', 'ADIDAS 男慢跑鞋': 'https://class.ruten.com.tw/user/index00.php?s=evenyiing&d=2965619&o=0&m=1', 'ADIDAS 男籃球鞋': 'https://class.ruten.com.tw/user/index00.php?s=evenyiing&d=2965615&o=0&m=1', 'ASICS 亞瑟士 女鞋': 'https://class.ruten.com.tw/user/index00.php?s=evenyiing&d=4106213&o=0&m=1', 'ASICS 亞瑟士 男鞋': 'https://class.ruten.com.tw/user/index00.php?s=evenyiing&d=4106212&o=0&m=1', 'CONVERSE 匡威': 'https://class.ruten.com.tw/user/index00.php?s=evenyiing&d=3666108&o=0&m=1', 'NB 女生鞋款': 'https://class.ruten.com.tw/user/index00.php?s=evenyiing&d=2616250&o=0&m=1', 'NB 男生鞋款': 'https://class.ruten.com.tw/user/index00.php?s=evenyiing&d=2616249&o=0&m=1', 'NIKE 女休閒鞋': 'https://class.ruten.com.tw/user/index00.php?s=evenyiing&d=2510360&o=0&m=1', 'NIKE 女慢跑鞋': 'https://class.ruten.com.tw/user/index00.php?s=evenyiing&d=2965587&o=0&m=1', 'NIKE 男休閒鞋': 'https://class.ruten.com.tw/user/index00.php?s=evenyiing&d=2489410&o=0&m=1', 'NIKE 男慢跑鞋': 'https://class.ruten.com.tw/user/index00.php?s=evenyiing&d=2965567&o=0&m=1', 'NIKE 男生籃球鞋': 'https://class.ruten.com.tw/user/index00.php?s=evenyiing&d=2965550&o=0&m=1', 'PUMA 特價女鞋': 'https://class.ruten.com.tw/user/index00.php?s=evenyiing&d=2738820&o=0&m=1', 'PUMA 特價男鞋': 'https://class.ruten.com.tw/user/index00.php?s=evenyiing&d=2738819&o=0&m=1', 'SKECHERS 女鞋': 'https://class.ruten.com.tw/user/index00.php?s=evenyiing&d=5039577&o=0&m=1', 'SKECHERS 男鞋': 'https://class.ruten.com.tw/user/index00.php?s=evenyiing&d=5039574&o=0&m=1', 'UA 女生鞋款': 'https://class.ruten.com.tw/user/index00.php?s=evenyiing&d=4649977&o=0&m=1', 'UA 男生鞋款': 'https://class.ruten.com.tw/user/index00.php?s=evenyiing&d=4649975&o=0&m=1', '女生籃球鞋': 'https://class.ruten.com.tw/user/index00.php?s=evenyiing&d=2965588&o=0&m=1'}\n",
      "['ADIDAS 女休閒鞋', 'ADIDAS 女慢跑鞋', 'ADIDAS 男休閒鞋', 'ADIDAS 男慢跑鞋', 'ADIDAS 男籃球鞋', 'ASICS 亞瑟士 女鞋', 'ASICS 亞瑟士 男鞋', 'CONVERSE 匡威', 'NB 女生鞋款', 'NB 男生鞋款', 'NIKE 女休閒鞋', 'NIKE 女慢跑鞋', 'NIKE 男休閒鞋', 'NIKE 男慢跑鞋', 'NIKE 男生籃球鞋', 'PUMA 特價女鞋', 'PUMA 特價男鞋', 'SKECHERS 女鞋', 'SKECHERS 男鞋', 'UA 女生鞋款', 'UA 男生鞋款', '女生籃球鞋']\n",
      "['https://class.ruten.com.tw/user/index00.php?s=evenyiing&d=2510363&o=0&m=1&p=1', 'https://class.ruten.com.tw/user/index00.php?s=evenyiing&d=2965650&o=0&m=1', 'https://class.ruten.com.tw/user/index00.php?s=evenyiing&d=2489408&o=0&m=1', 'https://class.ruten.com.tw/user/index00.php?s=evenyiing&d=2965619&o=0&m=1', 'https://class.ruten.com.tw/user/index00.php?s=evenyiing&d=2965615&o=0&m=1', 'https://class.ruten.com.tw/user/index00.php?s=evenyiing&d=4106213&o=0&m=1', 'https://class.ruten.com.tw/user/index00.php?s=evenyiing&d=4106212&o=0&m=1', 'https://class.ruten.com.tw/user/index00.php?s=evenyiing&d=3666108&o=0&m=1', 'https://class.ruten.com.tw/user/index00.php?s=evenyiing&d=2616250&o=0&m=1', 'https://class.ruten.com.tw/user/index00.php?s=evenyiing&d=2616249&o=0&m=1', 'https://class.ruten.com.tw/user/index00.php?s=evenyiing&d=2510360&o=0&m=1', 'https://class.ruten.com.tw/user/index00.php?s=evenyiing&d=2965587&o=0&m=1', 'https://class.ruten.com.tw/user/index00.php?s=evenyiing&d=2489410&o=0&m=1', 'https://class.ruten.com.tw/user/index00.php?s=evenyiing&d=2965567&o=0&m=1', 'https://class.ruten.com.tw/user/index00.php?s=evenyiing&d=2965550&o=0&m=1', 'https://class.ruten.com.tw/user/index00.php?s=evenyiing&d=2738820&o=0&m=1', 'https://class.ruten.com.tw/user/index00.php?s=evenyiing&d=2738819&o=0&m=1', 'https://class.ruten.com.tw/user/index00.php?s=evenyiing&d=5039577&o=0&m=1', 'https://class.ruten.com.tw/user/index00.php?s=evenyiing&d=5039574&o=0&m=1', 'https://class.ruten.com.tw/user/index00.php?s=evenyiing&d=4649977&o=0&m=1', 'https://class.ruten.com.tw/user/index00.php?s=evenyiing&d=4649975&o=0&m=1', 'https://class.ruten.com.tw/user/index00.php?s=evenyiing&d=2965588&o=0&m=1']\n"
     ]
    }
   ],
   "source": [
    "url0 = \"https://class.ruten.com.tw/user/index00.php?s=evenyiing\"\n",
    "response = urlopen(url0)\n",
    "# response = requests.get(url0)\n",
    "# 檔案 -> 最外面的盒子<html>\n",
    "html0 = BeautifulSoup(response)\n",
    "sellernm = html0.find(\"li\", class_=\"user-id\").find(\"a\").text\n",
    "print(sellernm)\n",
    "notallowed = [\"/\", \"|\", \"\\\\\", \"?\",\n",
    "              \"\\\"\", \"*\", \":\", \"<\",\n",
    "              \">\", \".\", \"！\", \" \"]\n",
    "sellernm_revised = \"\"\n",
    "for c in sellernm:\n",
    "    if not c in notallowed:\n",
    "        sellernm_revised = sellernm_revised + c\n",
    "print(sellernm_revised)\n",
    "set_web = {'ADIDAS 女休閒鞋':'https://class.ruten.com.tw/user/index00.php?s=evenyiing&d=2510363&o=0&m=1&p=1',\n",
    "           'ADIDAS 女慢跑鞋':'https://class.ruten.com.tw/user/index00.php?s=evenyiing&d=2965650&o=0&m=1',\n",
    "           'ADIDAS 男休閒鞋':'https://class.ruten.com.tw/user/index00.php?s=evenyiing&d=2489408&o=0&m=1',\n",
    "           'ADIDAS 男慢跑鞋':'https://class.ruten.com.tw/user/index00.php?s=evenyiing&d=2965619&o=0&m=1',\n",
    "           'ADIDAS 男籃球鞋':'https://class.ruten.com.tw/user/index00.php?s=evenyiing&d=2965615&o=0&m=1',\n",
    "           'ASICS 亞瑟士 女鞋':'https://class.ruten.com.tw/user/index00.php?s=evenyiing&d=4106213&o=0&m=1',\n",
    "           'ASICS 亞瑟士 男鞋':'https://class.ruten.com.tw/user/index00.php?s=evenyiing&d=4106212&o=0&m=1',\n",
    "           'CONVERSE 匡威':'https://class.ruten.com.tw/user/index00.php?s=evenyiing&d=3666108&o=0&m=1',\n",
    "           'NB 女生鞋款':'https://class.ruten.com.tw/user/index00.php?s=evenyiing&d=2616250&o=0&m=1',\n",
    "           'NB 男生鞋款':'https://class.ruten.com.tw/user/index00.php?s=evenyiing&d=2616249&o=0&m=1',\n",
    "           'NIKE 女休閒鞋':'https://class.ruten.com.tw/user/index00.php?s=evenyiing&d=2510360&o=0&m=1',\n",
    "           'NIKE 女慢跑鞋':'https://class.ruten.com.tw/user/index00.php?s=evenyiing&d=2965587&o=0&m=1',\n",
    "           'NIKE 男休閒鞋':'https://class.ruten.com.tw/user/index00.php?s=evenyiing&d=2489410&o=0&m=1',\n",
    "           'NIKE 男慢跑鞋':'https://class.ruten.com.tw/user/index00.php?s=evenyiing&d=2965567&o=0&m=1',\n",
    "           'NIKE 男生籃球鞋':'https://class.ruten.com.tw/user/index00.php?s=evenyiing&d=2965550&o=0&m=1',\n",
    "           'PUMA 特價女鞋':'https://class.ruten.com.tw/user/index00.php?s=evenyiing&d=2738820&o=0&m=1',\n",
    "           'PUMA 特價男鞋':'https://class.ruten.com.tw/user/index00.php?s=evenyiing&d=2738819&o=0&m=1',\n",
    "           'SKECHERS 女鞋':'https://class.ruten.com.tw/user/index00.php?s=evenyiing&d=5039577&o=0&m=1',\n",
    "           'SKECHERS 男鞋':'https://class.ruten.com.tw/user/index00.php?s=evenyiing&d=5039574&o=0&m=1',\n",
    "           'UA 女生鞋款':'https://class.ruten.com.tw/user/index00.php?s=evenyiing&d=4649977&o=0&m=1',\n",
    "           'UA 男生鞋款':'https://class.ruten.com.tw/user/index00.php?s=evenyiing&d=4649975&o=0&m=1',\n",
    "           '女生籃球鞋':'https://class.ruten.com.tw/user/index00.php?s=evenyiing&d=2965588&o=0&m=1',\n",
    "          }\n",
    "print(set_web)\n",
    "#change key and values of set_web which is dict to set_shna and set_shwe which are name of list\n",
    "set_shna = [ k for k in set_web ]\n",
    "print(set_shna)\n",
    "set_shwe = [ v for v in set_web.values() ]\n",
    "print(set_shwe)\n",
    "# set_web={\"\":\"\",}\n",
    "# set_shna.clear()\n",
    "# set_shwe.clear()\n",
    "# set_web.clear()\n",
    "# print(set_web, set_shna, set_shwe)\n"
   ]
  },
  {
   "cell_type": "markdown",
   "metadata": {},
   "source": [
    "# 開始抓取資料"
   ]
  },
  {
   "cell_type": "code",
   "execution_count": null,
   "metadata": {},
   "outputs": [],
   "source": [
    "df = pd.DataFrame(columns=[\"鞋名\", \"圖片1\", \"圖片2\", \"價位\", \"網址\"])\n",
    "item = 0\n",
    "page = 1\n",
    "while True:\n",
    "    print(\"目前第幾頁?\", page)\n",
    "    url = set_shwe[item]+\"&p=\"+ str(page)\n",
    "    response = urlopen(url)\n",
    "    # 檔案 -> 最外面的盒子<html>\n",
    "    html = BeautifulSoup(response)\n",
    "    # html.find_all(\"li\", {\"class\":\"list-rst\"})\n",
    "    nm = html.find_all(\"div\", class_=\"rt-store-goods-disp-mix\")\n",
    "    # rs是一個盒子list, 不是一個盒子\n",
    "    alert = html.find(\"div\", class_=\"rt-store-alert\")\n",
    "    print(alert)\n",
    "    \n",
    "    if  alert == None:\n",
    "        for n in nm:\n",
    "            name = n.find(\"h3\", class_=\"item-name\").text.strip(\"\\n\")\n",
    "            pic1 = n.find(\"img\", class_=\"rt-product-image\")[\"src\"]\n",
    "            pic2 = n.find(\"img\", class_=\"rt-product-image\")[\"src\"].replace(\"_m\", \"\")\n",
    "            web = n.find(\"h3\", class_=\"item-name\").find(\"a\")\n",
    "            price = n.find(\"span\", class_=\"item-direct-price\").text.strip().strip(\"$\").strip(\",\")\n",
    "            # 萃取紙條: 盒子.text\n",
    "            # 萃取特徵: 盒子[\"href\"]\n",
    "            #repr(): 查看原始字串\n",
    "            #strip(\"\"):重左右兩端刪減字串\n",
    "            #replace(\"a\",\"b\"): b取代 a\n",
    "            print(name)\n",
    "            print(pic1)\n",
    "            print(pic2)\n",
    "            print(price)\n",
    "            print(web[\"href\"])\n",
    "            saved = {\"鞋名\":name,\n",
    "                    \"圖片1\":pic1,\n",
    "                    \"圖片2\":pic2,\n",
    "                    \"價位\":price,\n",
    "                    \"網址\":web[\"href\"]}\n",
    "            ## 儲存內文(JSON)\n",
    "            notallowed = [\"/\", \"|\", \"\\\\\", \"?\",\n",
    "                          \"\\\"\", \"*\", \":\", \"<\",\n",
    "                          \">\", \".\", \"！\", \" \"]\n",
    "            \n",
    "            name_revised = \"\"\n",
    "            for c in name:\n",
    "                if not c in notallowed:\n",
    "                    name_revised = name_revised + c\n",
    "            # 去除不需的符號\n",
    "            dn = \"ruten/\" + sellernm_revised + \"/\" + set_shna[item]\n",
    "            if not os.path.exists(dn):\n",
    "                        os.makedirs(dn)\n",
    "            # 建立資料夾並在沒有目錄時建立\n",
    "            f = open(dn + \"/\"+name_revised+\".json\", \"w\", encoding=\"utf-8\")\n",
    "            json.dump(saved, f)\n",
    "            f.close()\n",
    "            print(\"-\" * 20)\n",
    "        page = page + 1\n",
    "    else:\n",
    "        print(\"應該是到底了吧\")\n",
    "        item+=1\n",
    "        page=1\n",
    "    "
   ]
  }
 ],
 "metadata": {
  "kernelspec": {
   "display_name": "Python 3",
   "language": "python",
   "name": "python3"
  },
  "language_info": {
   "codemirror_mode": {
    "name": "ipython",
    "version": 3
   },
   "file_extension": ".py",
   "mimetype": "text/x-python",
   "name": "python",
   "nbconvert_exporter": "python",
   "pygments_lexer": "ipython3",
   "version": "3.7.0"
  }
 },
 "nbformat": 4,
 "nbformat_minor": 2
}
