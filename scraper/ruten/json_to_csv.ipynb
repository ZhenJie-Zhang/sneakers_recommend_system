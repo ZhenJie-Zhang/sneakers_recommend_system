{
 "cells": [
  {
   "cell_type": "code",
   "execution_count": 22,
   "metadata": {},
   "outputs": [],
   "source": [
    "# Step1: 準備空表格(columns:會先固定住欄位順序)\n",
    "df = pd.DataFrame(columns=[\"鞋名\", \"圖片1\", \"圖片2\", \"價格\", \"網址\", \"分類\", \"賣家\", \"網站\"])\n"
   ]
  },
  {
   "cell_type": "code",
   "execution_count": 21,
   "metadata": {},
   "outputs": [],
   "source": [
    "# Step0 : import\n",
    "import pandas as pd\n",
    "import json\n",
    "from os import listdir\n",
    "from os.path import isfile, isdir, join"
   ]
  },
  {
   "cell_type": "markdown",
   "metadata": {},
   "source": [
    "# 目前只能單取一個資料夾"
   ]
  },
  {
   "cell_type": "code",
   "execution_count": 24,
   "metadata": {
    "scrolled": true
   },
   "outputs": [
    {
     "name": "stdout",
     "output_type": "stream",
     "text": [
      "mypath: ['a85043878', 'basemansports', 'cinemark0621', 'dzj888', 'evenyiing', 'evergreensports0905', 'gogo5885', 'l00885137', 'rosilieu', 'shuang19881118', 'su_111992']\n",
      "mypath_seller: ['休閒鞋類', '工作鞋安全鞋', '童鞋類', '運動鞋類']\n",
      "mypath_shoes: ['LH Shoes線上廠拍T-EGO黑灰潮流休閒輕便帆布鞋(3810-灰).jpg', 'LH Shoes線上廠拍T-EGO黑灰潮流休閒輕便帆布鞋(3810-灰).json', 'LH Shoes線上廠拍T-EGO黑白潮流休閒輕便帆布鞋(3810-白).jpg', 'LH Shoes線上廠拍T-EGO黑白潮流休閒輕便帆布鞋(3810-白).json']\n",
      "********************\n",
      "mypath_seller: ['休閒鞋類', '工作鞋安全鞋', '童鞋類', '運動鞋類']\n",
      "mypath_shoes: ['LH Shoes線上廠拍T-EGO黑灰潮流休閒輕便帆布鞋(3810-灰).jpg', 'LH Shoes線上廠拍T-EGO黑灰潮流休閒輕便帆布鞋(3810-灰).json', 'LH Shoes線上廠拍T-EGO黑白潮流休閒輕便帆布鞋(3810-白).jpg', 'LH Shoes線上廠拍T-EGO黑白潮流休閒輕便帆布鞋(3810-白).json']\n",
      "C:/ruten_exshoes/ruten_exshoes_1/ruten/a85043878/休閒鞋類/LH Shoes線上廠拍T-EGO黑灰潮流休閒輕便帆布鞋(3810-灰).json\n",
      "{'鞋名': 'LH Shoes線上廠拍T-EGO黑灰潮流休閒輕便帆布鞋(3810-灰)', '圖片1': 'https://b.rimg.com.tw/s1/d/79/4d/21925803702605_435_m.jpg', '圖片2': 'https://b.rimg.com.tw/s1/d/79/4d/21925803702605_435.jpg', '價位': '350', '網址': 'https://goods.ruten.com.tw/item/show?21925803702605'}\n",
      "{'鞋名': 'LH Shoes線上廠拍T-EGO黑灰潮流休閒輕便帆布鞋(3810-灰)', '圖片1': 'https://b.rimg.com.tw/s1/d/79/4d/21925803702605_435_m.jpg', '圖片2': 'https://b.rimg.com.tw/s1/d/79/4d/21925803702605_435.jpg', '價位': '350', '網址': 'https://goods.ruten.com.tw/item/show?21925803702605', '分類': '休閒鞋類', '賣家': 'a85043878', '網站': 'ruten'}\n",
      "--------------------\n",
      "mypath_seller: ['休閒鞋類', '工作鞋安全鞋', '童鞋類', '運動鞋類']\n",
      "mypath_shoes: ['LH Shoes線上廠拍T-EGO黑灰潮流休閒輕便帆布鞋(3810-灰).jpg', 'LH Shoes線上廠拍T-EGO黑灰潮流休閒輕便帆布鞋(3810-灰).json', 'LH Shoes線上廠拍T-EGO黑白潮流休閒輕便帆布鞋(3810-白).jpg', 'LH Shoes線上廠拍T-EGO黑白潮流休閒輕便帆布鞋(3810-白).json']\n",
      "********************\n",
      "mypath_seller: ['休閒鞋類', '工作鞋安全鞋', '童鞋類', '運動鞋類']\n",
      "mypath_shoes: ['LH Shoes線上廠拍T-EGO黑灰潮流休閒輕便帆布鞋(3810-灰).jpg', 'LH Shoes線上廠拍T-EGO黑灰潮流休閒輕便帆布鞋(3810-灰).json', 'LH Shoes線上廠拍T-EGO黑白潮流休閒輕便帆布鞋(3810-白).jpg', 'LH Shoes線上廠拍T-EGO黑白潮流休閒輕便帆布鞋(3810-白).json']\n",
      "C:/ruten_exshoes/ruten_exshoes_1/ruten/a85043878/休閒鞋類/LH Shoes線上廠拍T-EGO黑白潮流休閒輕便帆布鞋(3810-白).json\n",
      "{'鞋名': 'LH Shoes線上廠拍T-EGO黑白潮流休閒輕便帆布鞋(3810-白)', '圖片1': 'https://e.rimg.com.tw/s1/d/12/db/21925803676379_324_m.jpg', '圖片2': 'https://e.rimg.com.tw/s1/d/12/db/21925803676379_324.jpg', '價位': '350', '網址': 'https://goods.ruten.com.tw/item/show?21925803676379'}\n",
      "{'鞋名': 'LH Shoes線上廠拍T-EGO黑白潮流休閒輕便帆布鞋(3810-白)', '圖片1': 'https://e.rimg.com.tw/s1/d/12/db/21925803676379_324_m.jpg', '圖片2': 'https://e.rimg.com.tw/s1/d/12/db/21925803676379_324.jpg', '價位': '350', '網址': 'https://goods.ruten.com.tw/item/show?21925803676379', '分類': '休閒鞋類', '賣家': 'a85043878', '網站': 'ruten'}\n",
      "--------------------\n",
      "mypath_seller: ['休閒鞋類', '工作鞋安全鞋', '童鞋類', '運動鞋類']\n",
      "mypath_shoes: ['LH Shoes線上廠拍T-EGO黑灰潮流休閒輕便帆布鞋(3810-灰).jpg', 'LH Shoes線上廠拍T-EGO黑灰潮流休閒輕便帆布鞋(3810-灰).json', 'LH Shoes線上廠拍T-EGO黑白潮流休閒輕便帆布鞋(3810-白).jpg', 'LH Shoes線上廠拍T-EGO黑白潮流休閒輕便帆布鞋(3810-白).json']\n",
      "new category\n",
      "new category\n"
     ]
    }
   ],
   "source": [
    "# Step2. 準備要插入的資料\n",
    "##取賣家列表\n",
    "# 指定要列出所有檔案的目錄\n",
    "mypath = \"C:/ruten_exshoes/ruten_exshoes_1/ruten/\"\n",
    "# 取得所有檔案與子目錄名稱\n",
    "list_seller = listdir(mypath)\n",
    "print(\"mypath:\", list_seller)\n",
    "a = 0\n",
    "b = 0\n",
    "c = 0\n",
    "while True:\n",
    "    try:\n",
    "        ##取賣家下的類別列表\n",
    "        mypath_seller = \"C:/ruten_exshoes/ruten_exshoes_1/ruten/\" + list_seller[a]\n",
    "        list_category = listdir(mypath_seller)\n",
    "        print(\"mypath_seller:\", list_category)\n",
    "        ##取類別下的產品列表\n",
    "        mypath_shoes = \"C:/ruten_exshoes/ruten_exshoes_1/ruten/\" + list_seller[a] +\"/\"+ list_category[b]\n",
    "        list_shoes = listdir(mypath_shoes)\n",
    "        print(\"mypath_shoes:\", list_shoes)\n",
    "\n",
    "        allow = [\"json\"]\n",
    "        if list_shoes[c].split(\".\")[-1].lower() in allow:\n",
    "            dc = \"C:/ruten_exshoes/ruten_exshoes_1/ruten/\" + list_seller[a] + \"/\" + list_category[b]+\"/\"+list_shoes[c]\n",
    "            print(dc) \n",
    "            with open(dc, 'r') as f:\n",
    "                data = json.load(f)\n",
    "                print(data)\n",
    "                dict1 = {\"分類\":list_category[b], \n",
    "                         \"賣家\":list_seller[a],\n",
    "                         \"網站\":\"ruten\"}\n",
    "\n",
    "                data.update(dict1)\n",
    "                print(data)\n",
    "\n",
    "            # Step3. 插入進去(append)\n",
    "            # 只要是dataframe專屬功能, 都是屬於第一種(有兩份)\n",
    "            df = df.append(data, ignore_index=True)\n",
    "            print(\"-\" * 20)\n",
    "            c+=1\n",
    "        else:\n",
    "            print(\"*\" * 20)\n",
    "            c+=1   \n",
    "    except IndexError:\n",
    "        print(\"new category\")\n",
    "        # Step4. 儲存檔案\n",
    "        # index=False, 不要儲存0,1,2....\n",
    "        df.to_csv(list_seller[a] + \"_\" + list_category[b]+\".csv\",\n",
    "                  encoding=\"utf-8\",\n",
    "                  index=False)\n",
    "        print(\"new category\")\n",
    "        break    \n",
    "\n"
   ]
  },
  {
   "cell_type": "code",
   "execution_count": null,
   "metadata": {},
   "outputs": [],
   "source": []
  }
 ],
 "metadata": {
  "kernelspec": {
   "display_name": "Python 3",
   "language": "python",
   "name": "python3"
  },
  "language_info": {
   "codemirror_mode": {
    "name": "ipython",
    "version": 3
   },
   "file_extension": ".py",
   "mimetype": "text/x-python",
   "name": "python",
   "nbconvert_exporter": "python",
   "pygments_lexer": "ipython3",
   "version": "3.7.0"
  }
 },
 "nbformat": 4,
 "nbformat_minor": 2
}
